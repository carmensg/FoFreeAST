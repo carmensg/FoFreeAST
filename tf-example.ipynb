{
 "cells": [
  {
   "cell_type": "code",
   "execution_count": 1,
   "metadata": {
    "collapsed": true
   },
   "outputs": [],
   "source": [
    "%matplotlib inline"
   ]
  },
  {
   "cell_type": "code",
   "execution_count": 2,
   "metadata": {},
   "outputs": [
    {
     "name": "stderr",
     "output_type": "stream",
     "text": [
      "/Users/dforeman/anaconda/lib/python3.6/importlib/_bootstrap.py:205: RuntimeWarning: compiletime version 3.5 of module 'tensorflow.python.framework.fast_tensor_util' does not match runtime version 3.6\n",
      "  return f(*args, **kwds)\n"
     ]
    }
   ],
   "source": [
    "import numpy as np\n",
    "import matplotlib.pyplot as plt\n",
    "import tensorflow as tf\n",
    "from celeriteflow import ops"
   ]
  },
  {
   "cell_type": "code",
   "execution_count": 3,
   "metadata": {
    "collapsed": true
   },
   "outputs": [],
   "source": [
    "session = tf.Session()"
   ]
  },
  {
   "cell_type": "code",
   "execution_count": 15,
   "metadata": {},
   "outputs": [
    {
     "data": {
      "text/plain": [
       "[<matplotlib.lines.Line2D at 0x181d5c4d68>]"
      ]
     },
     "execution_count": 15,
     "metadata": {},
     "output_type": "execute_result"
    },
    {
     "data": {
      "image/png": "[encoded data removed]",
      "text/plain": [
       "<matplotlib.figure.Figure at 0x181966c668>"
      ]
     },
     "metadata": {},
     "output_type": "display_data"
    }
   ],
   "source": [
    "data = np.loadtxt('211351816.dat.ts')\n",
    "\n",
    "T = tf.float64\n",
    "\n",
    "t = tf.constant(data[:, 0]*0.0864, dtype=T)\n",
    "y = tf.constant(data[:, 1:2]*1e3, dtype=T)\n",
    "\n",
    "log_var = np.log(np.var(data[:,1]*1e3))\n",
    "\n",
    "plt.plot(*(session.run([t, y])))"
   ]
  },
  {
   "cell_type": "code",
   "execution_count": 31,
   "metadata": {},
   "outputs": [
    {
     "name": "stdout",
     "output_type": "stream",
     "text": [
      "-5266.57966717\n"
     ]
    },
    {
     "data": {
      "text/plain": [
       "[array([-83.86276907]), array([-5.57329369])]"
      ]
     },
     "execution_count": 31,
     "metadata": {},
     "output_type": "execute_result"
    }
   ],
   "source": [
    "log_jitter = tf.Variable(log_var, dtype=T)\n",
    "log_numax = tf.Variable(np.log(220.0), dtype=T)\n",
    "log_dnu = tf.Variable(np.log(17.0), dtype=T)\n",
    "gamma = tf.Variable([0.0, 0.0], dtype=T)\n",
    "log_H = tf.Variable([log_var, log_var], dtype=T)\n",
    "log_sigma = tf.Variable(np.log(10.0), dtype=T)\n",
    "log_Q = tf.Variable(8., dtype=T)\n",
    "\n",
    "numax = tf.exp(log_numax)\n",
    "nprime = tf.range(-2.0, 3.0, dtype=T)\n",
    "ell = tf.range(2, dtype=T)\n",
    "nu = numax + gamma[None, :] + (tf.exp(log_dnu) * (nprime[:, None] + 0.5*ell[None, :]))\n",
    "log_amp = log_H[None, :] - 0.5*tf.square(nu - numax)*tf.exp(-2*log_sigma)\n",
    "\n",
    "w0 = 2*np.pi*nu\n",
    "Q = 1.0 + tf.exp(log_Q)  # Make sure that Q is always greater than 1\n",
    "Q2 = tf.square(Q)\n",
    "S0 = tf.exp(log_amp) / Q2\n",
    "\n",
    "f = tf.sqrt(4.0 * Q2 - 1.0)\n",
    "nada = tf.constant([], dtype=T)\n",
    "a = tf.reshape(S0 * w0 * Q, [-1])\n",
    "b = tf.reshape(S0 * w0 * Q / f, [-1])\n",
    "c = tf.reshape(0.5 * w0 / Q, [-1])\n",
    "d = tf.reshape(0.5 * w0 / Q * f, [-1])\n",
    "\n",
    "# Granulation terms\n",
    "log_S0_gran = tf.Variable([log_var - 10.0], dtype=T)\n",
    "log_w0_gran = tf.Variable(np.log([2*np.pi*100.0]), dtype=T)\n",
    "\n",
    "arg1 = tf.exp(log_S0_gran + log_w0_gran)\n",
    "arg2 = 0.5 * tf.exp(log_w0_gran)\n",
    "a = tf.concat([a, arg1], 0)\n",
    "b = tf.concat([b, arg1], 0)\n",
    "c = tf.concat([c, arg2], 0)\n",
    "d = tf.concat([d, arg2], 0)\n",
    "\n",
    "A, U, V, P = ops.get_celerite_matrices(nada, nada, a, b, c, d, t, tf.exp(log_jitter) + tf.zeros_like(t))\n",
    "D, W = ops.celerite_factor(A, U, V, P)\n",
    "z = ops.celerite_solve(U, P, D, W, y)\n",
    "\n",
    "chi2 = tf.squeeze(tf.matmul(y, z, transpose_a=True)) + tf.reduce_sum(tf.log(D))\n",
    "\n",
    "session.run(tf.global_variables_initializer())\n",
    "print(session.run(chi2))\n",
    "session.run(tf.gradients(chi2, [log_S0_gran, log_w0_gran]))"
   ]
  },
  {
   "cell_type": "code",
   "execution_count": 32,
   "metadata": {},
   "outputs": [],
   "source": [
    "# # Hacks to test gradients\n",
    "# eps = 1e-5\n",
    "# var = y\n",
    "# targ = tf.reduce_sum(z)\n",
    "# v = session.run(var)\n",
    "# g0 = session.run(tf.gradients(targ, var))[0].flatten()\n",
    "\n",
    "# s = v.shape\n",
    "# v = v.flatten()\n",
    "# g = np.empty_like(v)\n",
    "# for i in range(len(v)):\n",
    "#     eye = np.zeros_like(v)\n",
    "#     eye[i] = eps\n",
    "#     p = session.run(targ, feed_dict={var: (v+eye).reshape(s)})\n",
    "#     m = session.run(targ, feed_dict={var: (v-eye).reshape(s)})\n",
    "#     g[i] = 0.5 * (p - m) / eps\n",
    "    \n",
    "# inds = [0, 1, 2, 3, -4, -3, -2, -1]\n",
    "# g[inds], g0[inds], np.max(np.abs(g - g0))"
   ]
  },
  {
   "cell_type": "code",
   "execution_count": 33,
   "metadata": {},
   "outputs": [
    {
     "name": "stdout",
     "output_type": "stream",
     "text": [
      "[array([-12.62076403]), array([ 6.44304725])]\n",
      "INFO:tensorflow:Optimization terminated with:\n",
      "  Message: b'CONVERGENCE: NORM_OF_PROJECTED_GRADIENT_<=_PGTOL'\n",
      "  Objective function value: -5812.392558\n",
      "  Number of iterations: 13\n",
      "  Number of functions evaluations: 19\n",
      "[array([-8.42514692]), array([ 4.79923457])]\n"
     ]
    }
   ],
   "source": [
    "opt = tf.contrib.opt.ScipyOptimizerInterface(chi2, var_list=[log_S0_gran, log_w0_gran])\n",
    "\n",
    "print(session.run([log_S0_gran, log_w0_gran]))\n",
    "opt.minimize(session)\n",
    "print(session.run([log_S0_gran, log_w0_gran]))"
   ]
  },
  {
   "cell_type": "raw",
   "metadata": {},
   "source": []
  }
 ],
 "metadata": {
  "kernelspec": {
   "display_name": "Python 3",
   "language": "python",
   "name": "python3"
  },
  "language_info": {
   "codemirror_mode": {
    "name": "ipython",
    "version": 3
   },
   "file_extension": ".py",
   "mimetype": "text/x-python",
   "name": "python",
   "nbconvert_exporter": "python",
   "pygments_lexer": "ipython3",
   "version": "3.6.1"
  }
 },
 "nbformat": 4,
 "nbformat_minor": 2
}
