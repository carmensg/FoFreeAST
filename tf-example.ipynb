{
 "cells": [
  {
   "cell_type": "code",
   "execution_count": 1,
   "metadata": {
    "collapsed": true
   },
   "outputs": [],
   "source": [
    "%matplotlib inline"
   ]
  },
  {
   "cell_type": "code",
   "execution_count": 2,
   "metadata": {},
   "outputs": [
    {
     "name": "stderr",
     "output_type": "stream",
     "text": [
      "/Users/dforeman/anaconda/lib/python3.6/importlib/_bootstrap.py:205: RuntimeWarning: compiletime version 3.5 of module 'tensorflow.python.framework.fast_tensor_util' does not match runtime version 3.6\n",
      "  return f(*args, **kwds)\n"
     ]
    }
   ],
   "source": [
    "import numpy as np\n",
    "import tensorflow as tf\n",
    "from celeriteflow import ops"
   ]
  },
  {
   "cell_type": "code",
   "execution_count": 8,
   "metadata": {
    "collapsed": true
   },
   "outputs": [],
   "source": [
    "session = tf.Session()"
   ]
  },
  {
   "cell_type": "code",
   "execution_count": 4,
   "metadata": {},
   "outputs": [],
   "source": [
    "data = np.loadtxt('211351816.dat.ts')\n",
    "t, y = np.array(data[:,0])*0.0864, np.array(data[:,1])\n",
    "log_var = np.var(y)"
   ]
  },
  {
   "cell_type": "code",
   "execution_count": 5,
   "metadata": {},
   "outputs": [],
   "source": [
    "T = tf.float64\n",
    "\n",
    "t = tf.constant(np.linspace(0, 10, 500), dtype=T)\n",
    "y = tf.sin(t)\n",
    "diag = tf.constant(np.ones(500), dtype=T)"
   ]
  },
  {
   "cell_type": "code",
   "execution_count": 41,
   "metadata": {},
   "outputs": [],
   "source": [
    "log_numax = tf.Variable(np.log(220.0), dtype=T)\n",
    "log_dnu = tf.Variable(np.log(17.0), dtype=T)\n",
    "gamma = tf.Variable([0.0, 0.0], dtype=T)\n",
    "log_H = tf.Variable([log_var, log_var], dtype=T)\n",
    "log_sigma = tf.Variable(np.log(10.0), dtype=T)\n",
    "log_Q = tf.Variable(8., dtype=T)\n",
    "\n",
    "numax = tf.exp(log_numax)\n",
    "nprime = tf.range(-2.0, 3.0, dtype=T)\n",
    "ell = tf.range(2, dtype=T)\n",
    "nu = numax + gamma[None, :] + (tf.exp(log_dnu) * (nprime[:, None] + 0.5*ell[None, :]))\n",
    "log_amp = log_H[None, :] - 0.5*tf.square(nu - numax)*tf.exp(-2*log_sigma)\n",
    "\n",
    "S0 = tf.exp(log_amp - 2*log_Q)\n",
    "w0 = 2*np.pi*nu\n",
    "Q = tf.exp(log_Q)\n",
    "\n",
    "f = tf.sqrt(4.0 * tf.square(Q) - 1.0)\n",
    "\n",
    "nada = tf.constant([], dtype=T)\n",
    "a = tf.reshape(S0 * w0 * Q, [-1])\n",
    "b = tf.reshape(S0 * w0 * Q / f, [-1])\n",
    "c = tf.reshape(0.5 * w0 / Q, [-1])\n",
    "d = tf.reshape(0.5 * w0 / Q * f, [-1])\n",
    "\n",
    "A, U, V, P = ops.get_celerite_matrices(nada, nada, a, b, c, d, t, diag)\n",
    "D, W, _ = ops.celerite_factor(A, U, V, P)\n",
    "z, _, _ = ops.celerite_solve(U, P, D, W, y[:, None])\n",
    "\n",
    "log_like = -0.5*(tf.squeeze(tf.matmul(y[None, :], z)) + tf.reduce_sum(tf.log(D)))\n",
    "\n",
    "session.run(tf.global_variables_initializer())"
   ]
  },
  {
   "cell_type": "code",
   "execution_count": 49,
   "metadata": {
    "scrolled": false
   },
   "outputs": [
    {
     "data": {
      "text/plain": [
       "[64.525976004439087, 4822.0277441631679, array([ 10.8933809 ,  11.20973878])]"
      ]
     },
     "execution_count": 49,
     "metadata": {},
     "output_type": "execute_result"
    }
   ],
   "source": [
    "session.run(tf.gradients(log_like, [log_Q, log_numax, gamma]))"
   ]
  },
  {
   "cell_type": "code",
   "execution_count": null,
   "metadata": {
    "collapsed": true
   },
   "outputs": [],
   "source": []
  }
 ],
 "metadata": {
  "kernelspec": {
   "display_name": "Python 3",
   "language": "python",
   "name": "python3"
  },
  "language_info": {
   "codemirror_mode": {
    "name": "ipython",
    "version": 3
   },
   "file_extension": ".py",
   "mimetype": "text/x-python",
   "name": "python",
   "nbconvert_exporter": "python",
   "pygments_lexer": "ipython3",
   "version": "3.6.1"
  }
 },
 "nbformat": 4,
 "nbformat_minor": 2
}
